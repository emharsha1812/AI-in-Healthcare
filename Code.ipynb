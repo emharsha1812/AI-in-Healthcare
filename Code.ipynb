{
 "cells": [
  {
   "cell_type": "code",
   "execution_count": 13,
   "id": "8eb399ea",
   "metadata": {},
   "outputs": [],
   "source": [
    "import pandas as pd\n",
    "import numpy as np\n",
    "\n",
    "import glob\n",
    "import os"
   ]
  },
  {
   "cell_type": "code",
   "execution_count": 14,
   "id": "75b43495",
   "metadata": {},
   "outputs": [],
   "source": [
    "PROCESSED_PATH='./Data/ICDAR_SROIE/processed/'"
   ]
  },
  {
   "cell_type": "code",
   "execution_count": 15,
   "id": "317c6ed1",
   "metadata": {},
   "outputs": [],
   "source": [
    "receipt_train_img={os.path.split(x)[-1].replace(\".jpg\",\"\"):x for x in glob.glob(\"./Data/ICDAR_SROIE/0325updated.task1train(626p)/*.jpg\") if not os.path.split(x)[-1].replace(\".jpg\",\"\").endswith(\")\")}\n",
    "ocr_data = {os.path.split(x)[-1].replace(\".txt\",\"\"):x for x in glob.glob(\"./Data/ICDAR_SROIE/0325updated.task1train(626p)/*.txt\") if not os.path.split(x)[-1].replace(\".txt\",\"\").endswith(\")\")} \n",
    "label_data = {os.path.split(x)[-1].replace(\".txt\",\"\"):x for x in glob.glob(\"./Data/ICDAR_SROIE/0325updated.task2train(626p)/*.txt\") if not os.path.split(x)[-1].replace(\".txt\",\"\").endswith(\")\")}\n"
   ]
  },
  {
   "cell_type": "code",
   "execution_count": 16,
   "id": "d559252e",
   "metadata": {},
   "outputs": [],
   "source": [
    "#checking is all the sets have the same number of labeled data\n",
    "assert len(receipt_train_img)==len(ocr_data)==len(label_data)"
   ]
  },
  {
   "cell_type": "code",
   "execution_count": 17,
   "id": "65447f89",
   "metadata": {},
   "outputs": [],
   "source": [
    "import json\n",
    "from fuzzywuzzy import fuzz\n",
    "\n",
    "def extract_ocr_data_fromtxt(file_path,key,save=False):\n",
    "    \"\"\"\n",
    "    Extract the bouding box coordinates from txt and returns a pandas dataframe\n",
    "    \"\"\"\n",
    "    with open(file_path,'r') as in_file:\n",
    "        stripped=(line.strip() for line in in_file)\n",
    "        lines=[line.split(\",\")[:2] + line.split(\",\")[4:6]+[\",\".join(line.split(\",\")[8:])] for line in stripped if line]\n",
    "        \n",
    "        df=pd.DataFrame(lines,columns=['xmin','ymin','xmax','ymax','text'])\n",
    "        \n",
    "    #Option to save as a csv\n",
    "    \n",
    "    if save:\n",
    "        if not os.path.exists(PROCESSED_PATH):\n",
    "            os.mkdir(PROCESSED_PATH)\n",
    "            df.to_csv(os.path.join(PROCESSED_PATH,key+'.csv'),index=None)\n",
    "    return df\n",
    "\n",
    "\n",
    "def extract_label_data_fromtxt(file_path):\n",
    "    \"\"\"\n",
    "    Read the label json and return as a dictionary\n",
    "    \"\"\"\n",
    "    \n",
    "    with open(file_path) as f:\n",
    "        json_data=json.load(f)\n",
    "        \n",
    "    return json_data\n",
    "\n",
    "\n",
    "\n",
    "def map_labels(text,k):\n",
    "    \"\"\"\n",
    "    Maps label to ocr output using certain heuristics and logic\n",
    "    \"\"\"\n",
    "    text_n = None\n",
    "    k_n = None\n",
    "    try:\n",
    "        text_n = float(text)\n",
    "    except Exception as e:\n",
    "        pass\n",
    "\n",
    "    try:\n",
    "        k_n = float(k)\n",
    "    except Exception as e:\n",
    "        pass\n",
    "    # if both are text then we are doing a fuzzy match\n",
    "    if (pd.isnull(text_n) and pd.isnull(k_n)):\n",
    "#         if (text in k) or (k in text):\n",
    "#             return True\n",
    "        if fuzz.token_set_ratio(text,k) > 90:\n",
    "            return True\n",
    "    # if both are numerical then we just check for complete match\n",
    "    elif (text_n is not None) and (k_n is not None):\n",
    "        return text == k\n",
    "    # special case to handle total, using endwith \n",
    "    # as sometimes symbols are attached to ocr output\n",
    "    elif (k_n is not None) and (text_n is None):\n",
    "        return text.endswith(k)\n",
    "    \n",
    "    return False\n",
    "        "
   ]
  },
  {
   "cell_type": "code",
   "execution_count": 18,
   "id": "227a17b7",
   "metadata": {},
   "outputs": [],
   "source": [
    "def mapped_label_ocr(key):\n",
    "    \"\"\"\n",
    "    Wrapper function to yield result of mapping in desired format\n",
    "    \"\"\"\n",
    "    data = extract_ocr_data_fromtxt(ocr_data[key],key)\n",
    "    label_dict = extract_label_data_fromtxt(label_data[key])\n",
    "    \n",
    "    data['labels'] = [[k for k,v in label_dict.items() if map_labels(text, v)] for text in data.text]\n",
    "    # To avoid company and address overlap in some cases.\n",
    "    data['labels'] = ['address' if len(label) > 1 else \"\".join(label) for label in data['labels']]\n",
    "    \n",
    "    if not os.path.exists(PROCESSED_PATH):\n",
    "        os.mkdir(PROCESSED_PATH)\n",
    "    data.to_csv(os.path.join(PROCESSED_PATH,key + '.csv'), index =None)\n",
    "    \n",
    "    \n",
    "    return data\n",
    "    \n",
    "    "
   ]
  },
  {
   "cell_type": "code",
   "execution_count": 19,
   "id": "1f909822",
   "metadata": {},
   "outputs": [],
   "source": [
    "mapped_data={key:mapped_label_ocr(key) for key in ocr_data.keys()}"
   ]
  },
  {
   "cell_type": "code",
   "execution_count": 20,
   "id": "ebff0f3a",
   "metadata": {},
   "outputs": [
    {
     "ename": "ModuleNotFoundError",
     "evalue": "No module named 'cv2'",
     "output_type": "error",
     "traceback": [
      "\u001b[1;31m---------------------------------------------------------------------------\u001b[0m",
      "\u001b[1;31mModuleNotFoundError\u001b[0m                       Traceback (most recent call last)",
      "Cell \u001b[1;32mIn[20], line 2\u001b[0m\n\u001b[0;32m      1\u001b[0m \u001b[38;5;66;03m#lets plot some of these labels and see the results\u001b[39;00m\n\u001b[1;32m----> 2\u001b[0m \u001b[38;5;28;01mimport\u001b[39;00m \u001b[38;5;21;01mcv2\u001b[39;00m\n\u001b[0;32m      3\u001b[0m \u001b[38;5;28;01mfrom\u001b[39;00m \u001b[38;5;21;01mmatplotlib\u001b[39;00m \u001b[38;5;28;01mimport\u001b[39;00m pyplot \u001b[38;5;28;01mas\u001b[39;00m plt\n\u001b[0;32m      5\u001b[0m LABELLED_IMG \u001b[38;5;241m=\u001b[39m \u001b[38;5;124m\"\u001b[39m\u001b[38;5;124m./Data/ICDAR_SROIE/labelled_img/\u001b[39m\u001b[38;5;124m\"\u001b[39m\n",
      "\u001b[1;31mModuleNotFoundError\u001b[0m: No module named 'cv2'"
     ]
    }
   ],
   "source": [
    "#lets plot some of these labels and see the results\n",
    "import cv2\n",
    "from matplotlib import pyplot as plt\n",
    "\n",
    "LABELLED_IMG = \"./Data/ICDAR_SROIE/labelled_img/\"\n",
    "if not os.path.exists(LABELLED_IMG):\n",
    "    os.mkdir(LABELLED_IMG)"
   ]
  },
  {
   "cell_type": "code",
   "execution_count": null,
   "id": "2cad449a",
   "metadata": {},
   "outputs": [],
   "source": []
  }
 ],
 "metadata": {
  "kernelspec": {
   "display_name": "Python 3 (ipykernel)",
   "language": "python",
   "name": "python3"
  },
  "language_info": {
   "codemirror_mode": {
    "name": "ipython",
    "version": 3
   },
   "file_extension": ".py",
   "mimetype": "text/x-python",
   "name": "python",
   "nbconvert_exporter": "python",
   "pygments_lexer": "ipython3",
   "version": "3.9.16"
  }
 },
 "nbformat": 4,
 "nbformat_minor": 5
}
